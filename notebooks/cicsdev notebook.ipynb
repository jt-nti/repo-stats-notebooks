{
 "cells": [
  {
   "cell_type": "markdown",
   "metadata": {},
   "source": [
    "# cics dev stats\n",
    "\n",
    "## Introduction\n",
    "\n",
    "The [github-repo-stats GitHub Action](https://github.com/marketplace/actions/github-repo-stats) collects stats and [generates reports for each repository in the cicsdev organisation](https://github.com/cicsdev/repo-stats/tree/github-repo-stats/cicsdev) individually.\n",
    "\n",
    "This workbook is an attempt to create a report across the data for all cicsdev repositories."
   ]
  },
  {
   "cell_type": "markdown",
   "metadata": {},
   "source": [
    "## Fetch and load data"
   ]
  },
  {
   "cell_type": "markdown",
   "metadata": {},
   "source": [
    "The following curl command will download the latest output of the github-repo-stats action, including the raw data in csv files."
   ]
  },
  {
   "cell_type": "code",
   "execution_count": null,
   "metadata": {},
   "outputs": [],
   "source": [
    "!mkdir -p ../.data && curl -sSL \"https://github.com/cicsdev/repo-stats/archive/heads/reports.tar.gz\" | tar -C ../.data --strip-components=1 -xzf -"
   ]
  },
  {
   "cell_type": "markdown",
   "metadata": {},
   "source": [
    "Next, some imports and initial setup."
   ]
  },
  {
   "cell_type": "code",
   "execution_count": 8,
   "metadata": {},
   "outputs": [],
   "source": [
    "# Import all the things\n",
    "import glob\n",
    "import pandas as pd\n",
    "from datetime import datetime\n",
    "from dateutil.relativedelta import relativedelta\n",
    "from functools import reduce\n",
    "from numpy import int64\n",
    "\n",
    "import matplotlib.pyplot as plt\n",
    "import matplotlib.dates as mdates\n",
    "\n",
    "import ipywidgets as widgets"
   ]
  },
  {
   "cell_type": "code",
   "execution_count": 9,
   "metadata": {},
   "outputs": [],
   "source": [
    "# Setup graphs\n",
    "%matplotlib inline\n",
    "%config InlineBackend.figure_format = 'svg'\n",
    "plt.rcParams['figure.figsize'] = [10, 5]\n",
    "plt.rc('axes', axisbelow=True)"
   ]
  },
  {
   "cell_type": "markdown",
   "metadata": {},
   "source": [
    "Now load and merge the data."
   ]
  },
  {
   "cell_type": "code",
   "execution_count": null,
   "metadata": {},
   "outputs": [],
   "source": [
    "\n",
    "csv_files = glob.iglob(\"../.data/**/ghrs-data/views_clones_aggregate.csv\", recursive=True)\n",
    "dfs = [\n",
    "    pd.read_csv(csv_file, header=0, names=['date', csv_file.split('/')[3]], usecols=[0, 3]) for csv_file in csv_files\n",
    "]\n",
    "\n",
    "for df in dfs:\n",
    "    df['date'] = df['date'].astype('datetime64[ns, UTC]')\n",
    "    df.set_index('date', inplace = True)\n",
    "\n",
    "# TODO why doesn't parsing the date work when loading?\n",
    "# dfs = [\n",
    "#     pd.read_csv(csv_file, header=0, names=['date', csv_file.split('/')[3]], usecols=[0, 3], parse_dates=[0], date_format=lambda t: pd.to_datetime(t, utc=True).to_datetime64()) for csv_file in csv_files\n",
    "# ]\n",
    "# map(lambda df: df.set_index('date', inplace = True), dfs)\n",
    "\n",
    "merged_df = reduce(lambda left, right: pd.merge(left, right, on='date', how='outer').fillna(0), dfs)\n",
    "merged_df.tail()\n",
    "\n"
   ]
  },
  {
   "cell_type": "markdown",
   "metadata": {},
   "source": [
    "## One month view summary\n",
    "\n",
    "Choose a month and the minimum number of views to be included in the graph."
   ]
  },
  {
   "cell_type": "code",
   "execution_count": null,
   "metadata": {},
   "outputs": [],
   "source": [
    "from_date = datetime.today().date() - relativedelta(years=1)\n",
    "dates = [from_date + relativedelta(months=i) for i in range(1, 13)]\n",
    "options = [(i.strftime('%b %Y'), i) for i in dates]\n",
    "month = widgets.SelectionSlider(\n",
    "    options=options,\n",
    "    index=11,\n",
    "    description='Month:',\n",
    "    disabled=False\n",
    ")\n",
    "display(month)\n",
    "\n",
    "cutoff = widgets.IntSlider(\n",
    "    value=25,\n",
    "    min=0,\n",
    "    max=100,\n",
    "    step=5,\n",
    "    description='Cut-off:',\n",
    "    disabled=False,\n",
    "    continuous_update=False,\n",
    "    orientation='horizontal',\n",
    "    readout=True,\n",
    "    readout_format='d'\n",
    ")\n",
    "display(cutoff)"
   ]
  },
  {
   "cell_type": "markdown",
   "metadata": {},
   "source": [
    "Plot a graph using the settings above."
   ]
  },
  {
   "cell_type": "code",
   "execution_count": null,
   "metadata": {},
   "outputs": [],
   "source": [
    "monthly_df = merged_df.groupby([lambda x: x.year, lambda x: x.month]).sum()\n",
    "monthly_df.tail()\n",
    "month_summary_sf = monthly_df.xs((month.value.year, month.value.month))\n",
    "\n",
    "mask = month_summary_sf > cutoff.value\n",
    "\n",
    "month_summary_plot = month_summary_sf[mask].sort_values(ascending=False).plot.bar(title=month.value.strftime('%b %Y'),xlabel='Sample',ylabel='Views')\n",
    "month_summary_plot.grid(axis='y')"
   ]
  },
  {
   "cell_type": "markdown",
   "metadata": {},
   "source": [
    "## Quarterly view summary\n",
    "\n",
    "Choose a quarter and the minimum number of views to be included in the graph."
   ]
  },
  {
   "cell_type": "code",
   "execution_count": null,
   "metadata": {},
   "outputs": [],
   "source": [
    "quarterly_df = merged_df.groupby(lambda x: x.to_period('Q')).sum()\n",
    "\n",
    "quarters = [(i.strftime('%YQ%q'), i) for i in quarterly_df.index]\n",
    "quarter = widgets.SelectionSlider(\n",
    "    options=quarters,\n",
    "    description='Quarter:',\n",
    "    disabled=False\n",
    ")\n",
    "display(quarter)\n",
    "\n",
    "qcutoff = widgets.IntSlider(\n",
    "    value=100,\n",
    "    min=0,\n",
    "    max=400,\n",
    "    step=25,\n",
    "    description='Cut-off:',\n",
    "    disabled=False,\n",
    "    continuous_update=False,\n",
    "    orientation='horizontal',\n",
    "    readout=True,\n",
    "    readout_format='d'\n",
    ")\n",
    "display(qcutoff)"
   ]
  },
  {
   "cell_type": "markdown",
   "metadata": {},
   "source": [
    "Plot a graph using the settings above."
   ]
  },
  {
   "cell_type": "code",
   "execution_count": null,
   "metadata": {},
   "outputs": [],
   "source": [
    "quarterly_summary_sf = quarterly_df.xs(quarter.value)\n",
    "\n",
    "qmask = quarterly_summary_sf > qcutoff.value\n",
    "\n",
    "quarterly_summary_plot = quarterly_summary_sf[qmask].sort_values(ascending=False).plot.bar(title=quarter.value,xlabel='Sample',ylabel='Views')\n",
    "quarterly_summary_plot.grid(axis='y')"
   ]
  },
  {
   "cell_type": "markdown",
   "metadata": {},
   "source": [
    "## Future\n",
    "\n",
    "The notebook is pretty basic at the moment but hopefully it's a useful start! Still to come:\n",
    "\n",
    "- grant total of all sample views over time\n",
    "\n",
    "Plus any other requested improvements!"
   ]
  }
 ],
 "metadata": {
  "kernelspec": {
   "display_name": "Python 3",
   "language": "python",
   "name": "python3"
  },
  "language_info": {
   "codemirror_mode": {
    "name": "ipython",
    "version": 3
   },
   "file_extension": ".py",
   "mimetype": "text/x-python",
   "name": "python",
   "nbconvert_exporter": "python",
   "pygments_lexer": "ipython3",
   "version": "3.9.2"
  }
 },
 "nbformat": 4,
 "nbformat_minor": 2
}
